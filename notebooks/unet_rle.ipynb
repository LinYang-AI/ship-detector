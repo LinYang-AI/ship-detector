{
 "cells": [
  {
   "cell_type": "code",
   "execution_count": 1,
   "id": "4b3e492f",
   "metadata": {},
   "outputs": [
    {
     "name": "stderr",
     "output_type": "stream",
     "text": [
      "e:\\Computer Vision\\ship-detector\\.venv\\Lib\\site-packages\\tqdm\\auto.py:21: TqdmWarning: IProgress not found. Please update jupyter and ipywidgets. See https://ipywidgets.readthedocs.io/en/stable/user_install.html\n",
      "  from .autonotebook import tqdm as notebook_tqdm\n"
     ]
    }
   ],
   "source": [
    "%reload_ext autoreload\n",
    "%autoreload 2\n",
    "from ship_detector.scripts.train_unet_rle import UNetShipSegmentation, create_data_loaders\n",
    "from ship_detector.scripts.utils import load_config\n",
    "\n",
    "import os\n",
    "\n",
    "import torch\n",
    "import pandas as pd\n",
    "import pytorch_lightning as pl\n",
    "from pytorch_lightning.callbacks import ModelCheckpoint, EarlyStopping, LearningRateMonitor\n",
    "from pytorch_lightning.loggers import TensorBoardLogger\n",
    "from pathlib import Path"
   ]
  },
  {
   "cell_type": "code",
   "execution_count": 2,
   "id": "a02f18d4",
   "metadata": {},
   "outputs": [],
   "source": [
    "config_path = 'configs/unet_rle.yaml'\n",
    "manifest_path = 'data/airbus-ship-detection/train_ship_segmentations_v2.csv'\n",
    "output_dir = 'outputs/unet_rle'\n",
    "verify_data = True"
   ]
  },
  {
   "cell_type": "code",
   "execution_count": 3,
   "id": "6467d8db",
   "metadata": {},
   "outputs": [],
   "source": [
    "config = load_config(config_path)"
   ]
  },
  {
   "cell_type": "code",
   "execution_count": 4,
   "id": "3b7d14ac",
   "metadata": {},
   "outputs": [
    {
     "name": "stderr",
     "output_type": "stream",
     "text": [
      "Seed set to 42\n"
     ]
    },
    {
     "data": {
      "text/plain": [
       "42"
      ]
     },
     "execution_count": 4,
     "metadata": {},
     "output_type": "execute_result"
    }
   ],
   "source": [
    "pl.seed_everything(42)"
   ]
  },
  {
   "cell_type": "code",
   "execution_count": 5,
   "id": "68b94b0f",
   "metadata": {},
   "outputs": [],
   "source": [
    "Path(output_dir).mkdir(parents=True, exist_ok=True)"
   ]
  },
  {
   "cell_type": "code",
   "execution_count": 6,
   "id": "9ea0579e",
   "metadata": {},
   "outputs": [],
   "source": [
    "df = pd.read_csv(manifest_path)"
   ]
  },
  {
   "cell_type": "code",
   "execution_count": 7,
   "id": "52a63ed6",
   "metadata": {},
   "outputs": [],
   "source": [
    "df['has_ship'] = df['EncodedPixels'].notna().astype(int)"
   ]
  },
  {
   "cell_type": "code",
   "execution_count": 8,
   "id": "945c140e",
   "metadata": {},
   "outputs": [],
   "source": [
    "df['patch_path'] = df['ImageId'].apply(lambda x: f\"data/airbus-ship-detection/train_v2/{x}\")"
   ]
  },
  {
   "cell_type": "code",
   "execution_count": 9,
   "id": "9bb4d0f2",
   "metadata": {},
   "outputs": [
    {
     "name": "stderr",
     "output_type": "stream",
     "text": [
      "INFO:ship_detector.scripts.train_unet_rle:Loaded manifest with 231723 entries\n",
      "INFO:ship_detector.scripts.train_unet_rle:Filtered to 81723 ship patches\n",
      "INFO:ship_detector.scripts.train_unet_rle:Training samples: 65378\n",
      "INFO:ship_detector.scripts.train_unet_rle:Validation samples: 16345\n",
      "INFO:ship_detector.scripts.train_unet_rle:Dataset initialized with 65378 patches\n",
      "INFO:ship_detector.scripts.train_unet_rle:Dataset initialized with 16345 patches\n",
      "INFO:ship_detector.scripts.train_unet_rle:Verifying first batch...\n",
      "INFO:ship_detector.scripts.train_unet_rle:✓ First batch loaded successfully\n",
      "INFO:ship_detector.scripts.train_unet_rle:  Images shape: torch.Size([16, 3, 768, 768])\n",
      "INFO:ship_detector.scripts.train_unet_rle:  Masks shape: torch.Size([16, 1, 768, 768])\n",
      "INFO:ship_detector.scripts.train_unet_rle:  Image range: [-2.12, 2.64]\n",
      "INFO:ship_detector.scripts.train_unet_rle:  Mask range: [0.00, 0.00]\n",
      "INFO:ship_detector.scripts.train_unet_rle:  Mask unique values: [0.0]...\n"
     ]
    }
   ],
   "source": [
    "train_loader, val_loader = create_data_loaders(manifest_path=manifest_path, config=config, verify_first_batch=verify_data)"
   ]
  },
  {
   "cell_type": "code",
   "execution_count": 10,
   "id": "f01d5d15",
   "metadata": {},
   "outputs": [],
   "source": [
    "model = UNetShipSegmentation(config)"
   ]
  },
  {
   "cell_type": "code",
   "execution_count": 11,
   "id": "655b6b5e",
   "metadata": {},
   "outputs": [],
   "source": [
    "callbacks = [\n",
    "    ModelCheckpoint(\n",
    "        dirpath=os.path.join(output_dir, 'checkpoints'),\n",
    "        filename='unet-{epoch:02d}-{val_iou:.3f}',\n",
    "        monitor='val_iou',\n",
    "        mode='max',\n",
    "        save_top_k=3,\n",
    "        save_last=True\n",
    "    ),\n",
    "    EarlyStopping(\n",
    "        monitor='val_loss',\n",
    "        patience=config['training']['early_stopping_patience'],\n",
    "        mode='min',\n",
    "    ),\n",
    "    LearningRateMonitor(logging_interval='epoch')\n",
    "]"
   ]
  },
  {
   "cell_type": "code",
   "execution_count": 12,
   "id": "cfd887b3",
   "metadata": {},
   "outputs": [],
   "source": [
    "logger_tb = TensorBoardLogger(\n",
    "    save_dir=output_dir,\n",
    "    name='unet_logs'\n",
    ")"
   ]
  },
  {
   "cell_type": "code",
   "execution_count": 13,
   "id": "966ffc4a",
   "metadata": {},
   "outputs": [
    {
     "name": "stderr",
     "output_type": "stream",
     "text": [
      "Using 16bit Automatic Mixed Precision (AMP)\n",
      "GPU available: True (cuda), used: True\n",
      "TPU available: False, using: 0 TPU cores\n",
      "HPU available: False, using: 0 HPUs\n"
     ]
    }
   ],
   "source": [
    "trainer = pl.Trainer(\n",
    "    max_epochs=config['training']['max_epochs'],\n",
    "    accelerator='gpu' if torch.cuda.is_available() else 'cpu',\n",
    "    devices=1,\n",
    "    callbacks=callbacks,\n",
    "    logger=logger_tb,\n",
    "    log_every_n_steps=10,\n",
    "    precision=config['training'].get('precision', 32)\n",
    ")"
   ]
  },
  {
   "cell_type": "code",
   "execution_count": null,
   "id": "a9584a19",
   "metadata": {},
   "outputs": [
    {
     "name": "stderr",
     "output_type": "stream",
     "text": [
      "You are using a CUDA device ('NVIDIA GeForce RTX 5060 Ti') that has Tensor Cores. To properly utilize them, you should set `torch.set_float32_matmul_precision('medium' | 'high')` which will trade-off precision for performance. For more details, read https://pytorch.org/docs/stable/generated/torch.set_float32_matmul_precision.html#torch.set_float32_matmul_precision\n",
      "LOCAL_RANK: 0 - CUDA_VISIBLE_DEVICES: [0]\n",
      "\n",
      "  | Name      | Type        | Params | Mode \n",
      "--------------------------------------------------\n",
      "0 | model     | Unet        | 20.2 M | train\n",
      "1 | criterion | DiceBCELoss | 0      | train\n",
      "--------------------------------------------------\n",
      "20.2 M    Trainable params\n",
      "0         Non-trainable params\n",
      "20.2 M    Total params\n",
      "80.903    Total estimated model params size (MB)\n",
      "565       Modules in train mode\n",
      "0         Modules in eval mode\n"
     ]
    },
    {
     "name": "stdout",
     "output_type": "stream",
     "text": [
      "Sanity Checking DataLoader 0:   0%|          | 0/2 [00:00<?, ?it/s]"
     ]
    },
    {
     "name": "stderr",
     "output_type": "stream",
     "text": [
      "INFO:ship_detector.scripts.train_unet_rle:Saved predictions to predictions_epoch_0.png\n"
     ]
    },
    {
     "name": "stdout",
     "output_type": "stream",
     "text": [
      "Epoch 0:   0%|          | 0/4086 [00:00<?, ?it/s]                          "
     ]
    },
    {
     "name": "stderr",
     "output_type": "stream",
     "text": [
      "INFO:ship_detector.scripts.train_unet_rle:First batch - Images: torch.Size([16, 3, 768, 768]), Masks: torch.Size([16, 1, 768, 768])\n"
     ]
    }
   ],
   "source": [
    "trainer.fit(model, train_loader, val_loader)"
   ]
  },
  {
   "cell_type": "code",
   "execution_count": null,
   "id": "12206410",
   "metadata": {},
   "outputs": [],
   "source": []
  }
 ],
 "metadata": {
  "kernelspec": {
   "display_name": "ship-detector (3.12.11)",
   "language": "python",
   "name": "python3"
  },
  "language_info": {
   "codemirror_mode": {
    "name": "ipython",
    "version": 3
   },
   "file_extension": ".py",
   "mimetype": "text/x-python",
   "name": "python",
   "nbconvert_exporter": "python",
   "pygments_lexer": "ipython3",
   "version": "3.12.11"
  }
 },
 "nbformat": 4,
 "nbformat_minor": 5
}
