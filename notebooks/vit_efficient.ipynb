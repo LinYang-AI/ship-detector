{
 "cells": [
  {
   "cell_type": "code",
   "execution_count": null,
   "id": "8c04363d",
   "metadata": {},
   "outputs": [],
   "source": [
    "%reload_ext autoreload\n",
    "%autoreload 2\n",
    "\n",
    "from ship_detector.scripts.train_vit_efficient import (create_efficient_data_loaders,\n",
    "                                                       EfficientViTClassifier,\n",
    "                                                       MemoryMonitor)\n",
    "\n",
    "import tensorboard as tb\n",
    "# %load_ext tensorboard\n",
    "\n",
    "import os\n",
    "import cv2\n",
    "import yaml\n",
    "import timm\n",
    "import pandas as pd\n",
    "import torch\n",
    "import torch.nn as nn\n",
    "import torch_tb_profiler as tbp\n",
    "from pathlib import Path\n",
    "import pytorch_lightning as pl\n",
    "from pytorch_lightning.loggers import TensorBoardLogger\n",
    "from pytorch_lightning.callbacks import ModelCheckpoint, LearningRateMonitor, EarlyStopping"
   ]
  },
  {
   "cell_type": "code",
   "execution_count": null,
   "id": "7f6104e0",
   "metadata": {},
   "outputs": [],
   "source": [
    "# # tb.notebook.start(args_string='--logdir ./logs --bind_all')\n",
    "# %tb --logdir ./logs --port 6006 --host localhost"
   ]
  },
  {
   "cell_type": "code",
   "execution_count": null,
   "id": "3f85d6c4",
   "metadata": {},
   "outputs": [],
   "source": [
    "config_path = \"configs/vit_efficient.yaml\"\n",
    "manifest_path = \"data/airbus-ship-detection/train_ship_segmentations_v2.csv\"\n",
    "output_dir = \"outputs/efficient\""
   ]
  },
  {
   "cell_type": "code",
   "execution_count": null,
   "id": "69bd8e50",
   "metadata": {},
   "outputs": [],
   "source": [
    "with open(config_path, 'r') as f:\n",
    "    config = yaml.safe_load(f)\n",
    "pl.seed_everything(config.get('seed', 42))\n",
    "Path(output_dir).mkdir(parents=True, exist_ok=True)"
   ]
  },
  {
   "cell_type": "code",
   "execution_count": null,
   "id": "f19a4fb4",
   "metadata": {},
   "outputs": [],
   "source": [
    "torch.backends.cudnn.benchmark = True\n",
    "torch.backends.cuda.matmul.allow_tf32 = True"
   ]
  },
  {
   "cell_type": "code",
   "execution_count": null,
   "id": "4cb1f4bf",
   "metadata": {},
   "outputs": [],
   "source": [
    "memory_monitor = MemoryMonitor()\n",
    "for key, value in memory_monitor.get_memory_usage().items():\n",
    "    print(f\"{key}: {value:.2f} GB\")"
   ]
  },
  {
   "cell_type": "code",
   "execution_count": null,
   "id": "e6fd8b73",
   "metadata": {},
   "outputs": [],
   "source": [
    "train_loader, val_loader = create_efficient_data_loaders(\n",
    "    manifest_path=manifest_path,\n",
    "    config=config,\n",
    "    memory_monitor=memory_monitor,\n",
    ")"
   ]
  },
  {
   "cell_type": "code",
   "execution_count": null,
   "id": "74932915",
   "metadata": {},
   "outputs": [],
   "source": [
    "model = EfficientViTClassifier(config)"
   ]
  },
  {
   "cell_type": "code",
   "execution_count": null,
   "id": "63cda41c",
   "metadata": {},
   "outputs": [],
   "source": [
    "config['data']['use_streaming']"
   ]
  },
  {
   "cell_type": "code",
   "execution_count": null,
   "id": "eb63d7c9",
   "metadata": {},
   "outputs": [],
   "source": [
    "callbacks = [\n",
    "    ModelCheckpoint(\n",
    "        dirpath=os.path.join(output_dir, 'lora/checkpoints'),\n",
    "        filename='vit-{epoch:02d}-{val_acc:.3f}',\n",
    "        monitor='val_acc',\n",
    "        mode='max',\n",
    "        save_top_k=2,\n",
    "        save_last=True\n",
    "    ),\n",
    "    EarlyStopping(\n",
    "        monitor='val_loss',\n",
    "        patience=config['training']['early_stopping_patience'],\n",
    "        mode='min',\n",
    "        verbose=True,\n",
    "        strict=False,\n",
    "        check_finite=True\n",
    "    ),\n",
    "    LearningRateMonitor(logging_interval='epoch')\n",
    "]"
   ]
  },
  {
   "cell_type": "code",
   "execution_count": null,
   "id": "4833d31e",
   "metadata": {},
   "outputs": [],
   "source": [
    "logger = TensorBoardLogger(\n",
    "    save_dir='outputs/efficient/tb_logs',\n",
    "    name='efficientvit'\n",
    ")"
   ]
  },
  {
   "cell_type": "code",
   "execution_count": null,
   "id": "8a72aee6",
   "metadata": {},
   "outputs": [],
   "source": [
    "trainer = pl.Trainer(\n",
    "    max_epochs=config['training']['max_epochs'],\n",
    "    accelerator='gpu' if torch.cuda.is_available() else 'cpu',\n",
    "    devices=1,\n",
    "    callbacks=callbacks,\n",
    "    logger=logger,\n",
    "    accumulate_grad_batches=config['training'].get('accumulate_grad_batches', 1),\n",
    "    gradient_clip_val=config['training'].get('gradient_clip_val', 1.0),\n",
    "    precision=config['training'].get('precision', 16),\n",
    "    log_every_n_steps=10,\n",
    "    val_check_interval=config['training'].get('val_check_interval', 1.0),\n",
    "    limit_train_batches=config['training'].get('limit_train_batches', 1.0),\n",
    "    limit_val_batches=config['training'].get('limit_val_batches', 1.0)\n",
    ")"
   ]
  },
  {
   "cell_type": "code",
   "execution_count": null,
   "id": "ad772f87",
   "metadata": {},
   "outputs": [],
   "source": [
    "trainer.fit(model, train_loader, val_loader)"
   ]
  },
  {
   "cell_type": "code",
   "execution_count": null,
   "id": "11297466",
   "metadata": {},
   "outputs": [],
   "source": []
  }
 ],
 "metadata": {
  "kernelspec": {
   "display_name": "ship-detector (3.12.11)",
   "language": "python",
   "name": "python3"
  },
  "language_info": {
   "codemirror_mode": {
    "name": "ipython",
    "version": 3
   },
   "file_extension": ".py",
   "mimetype": "text/x-python",
   "name": "python",
   "nbconvert_exporter": "python",
   "pygments_lexer": "ipython3",
   "version": "3.12.11"
  }
 },
 "nbformat": 4,
 "nbformat_minor": 5
}
