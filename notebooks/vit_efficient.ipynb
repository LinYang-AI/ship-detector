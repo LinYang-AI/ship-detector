{
 "cells": [
  {
   "cell_type": "code",
   "execution_count": 26,
   "id": "8c04363d",
   "metadata": {},
   "outputs": [],
   "source": [
    "%reload_ext autoreload\n",
    "%autoreload 2\n",
    "\n",
    "\n",
    "from ship_detector.scripts.train_vit_efficient import (create_efficient_data_loaders,\n",
    "                                                       EfficientViTClassifier,\n",
    "                                                       MemoryMonitor)\n",
    "\n",
    "import os\n",
    "import yaml\n",
    "import timm\n",
    "import torch\n",
    "import torch.nn as nn\n",
    "from pathlib import Path\n",
    "import pytorch_lightning as pl\n",
    "from pytorch_lightning.callbacks import ModelCheckpoint, LearningRateMonitor, EarlyStopping"
   ]
  },
  {
   "cell_type": "code",
   "execution_count": 3,
   "id": "3f85d6c4",
   "metadata": {},
   "outputs": [],
   "source": [
    "config_path = \"configs/vit_efficient.yaml\"\n",
    "manifest_path = \"data/airbus-ship-detection/train_ship_segmentations_v2.csv\"\n",
    "output_dir = \"outputs/efficient\""
   ]
  },
  {
   "cell_type": "code",
   "execution_count": 4,
   "id": "69bd8e50",
   "metadata": {},
   "outputs": [
    {
     "name": "stderr",
     "output_type": "stream",
     "text": [
      "Seed set to 42\n"
     ]
    }
   ],
   "source": [
    "with open(config_path, 'r') as f:\n",
    "    config = yaml.safe_load(f)\n",
    "pl.seed_everything(config.get('seed', 42))\n",
    "Path(output_dir).mkdir(parents=True, exist_ok=True)"
   ]
  },
  {
   "cell_type": "code",
   "execution_count": 5,
   "id": "f19a4fb4",
   "metadata": {},
   "outputs": [],
   "source": [
    "torch.backends.cudnn.benchmark = True\n",
    "torch.backends.cuda.matmul.allow_tf32 = True"
   ]
  },
  {
   "cell_type": "code",
   "execution_count": 6,
   "id": "4cb1f4bf",
   "metadata": {},
   "outputs": [
    {
     "name": "stdout",
     "output_type": "stream",
     "text": [
      "ram_used_gb: 16.11 GB\n",
      "ram_available_gb: 18.05 GB\n",
      "ram_percent: 47.20 GB\n",
      "process_ram_gb: 0.76 GB\n",
      "gpu_allocated_gb: 0.00 GB\n",
      "gpu_reserved_gb: 0.00 GB\n",
      "gpu_free_gb: 17.10 GB\n"
     ]
    }
   ],
   "source": [
    "memory_monitor = MemoryMonitor()\n",
    "for key, value in memory_monitor.get_memory_usage().items():\n",
    "    print(f\"{key}: {value:.2f} GB\")"
   ]
  },
  {
   "cell_type": "code",
   "execution_count": 7,
   "id": "e6fd8b73",
   "metadata": {},
   "outputs": [
    {
     "name": "stdout",
     "output_type": "stream",
     "text": [
      "Training samples: 185378 (Ships: 65378)\n",
      "Validation samples: 46345 (Ships: 16345)\n"
     ]
    }
   ],
   "source": [
    "train_loader, val_loader = create_efficient_data_loaders(\n",
    "    manifest_path=manifest_path,\n",
    "    config=config,\n",
    "    memory_monitor=memory_monitor,\n",
    ")"
   ]
  },
  {
   "cell_type": "code",
   "execution_count": 33,
   "id": "74932915",
   "metadata": {},
   "outputs": [
    {
     "name": "stdout",
     "output_type": "stream",
     "text": [
      "LoRA Setup Complete:\n",
      "  Trainable parameters: 2,359,296\n",
      "  Total parameters: 88,157,952\n",
      "  Trainable ratio: 0.0268\n"
     ]
    }
   ],
   "source": [
    "model = EfficientViTClassifier(config)"
   ]
  },
  {
   "cell_type": "code",
   "execution_count": 34,
   "id": "eb63d7c9",
   "metadata": {},
   "outputs": [],
   "source": [
    "callbacks = [\n",
    "    ModelCheckpoint(\n",
    "        dirpath=os.path.join(output_dir, 'lora/checkpoints'),\n",
    "        filename='vit-{epoch:02d}-{val_acc:.3f}',\n",
    "        monitor='val_acc',\n",
    "        mode='max',\n",
    "        save_top_k=2,\n",
    "        save_last=True\n",
    "    ),\n",
    "    EarlyStopping(\n",
    "        monitor='val_loss',\n",
    "        patience=config['training']['early_stopping_patience'],\n",
    "        mode='min'\n",
    "    ),\n",
    "    LearningRateMonitor(logging_interval='epoch')\n",
    "]"
   ]
  },
  {
   "cell_type": "code",
   "execution_count": 35,
   "id": "8a72aee6",
   "metadata": {},
   "outputs": [
    {
     "name": "stderr",
     "output_type": "stream",
     "text": [
      "Using 16bit Automatic Mixed Precision (AMP)\n",
      "GPU available: True (cuda), used: True\n",
      "TPU available: False, using: 0 TPU cores\n",
      "HPU available: False, using: 0 HPUs\n",
      "`Trainer(limit_train_batches=1.0)` was configured so 100% of the batches per epoch will be used..\n",
      "`Trainer(limit_val_batches=1.0)` was configured so 100% of the batches will be used..\n",
      "`Trainer(val_check_interval=1.0)` was configured so validation will run at the end of the training epoch..\n"
     ]
    }
   ],
   "source": [
    "trainer = pl.Trainer(\n",
    "    max_epochs=config['training']['max_epochs'],\n",
    "    accelerator='gpu' if torch.cuda.is_available() else 'cpu',\n",
    "    devices=1,\n",
    "    callbacks=callbacks,\n",
    "    accumulate_grad_batches=config['training'].get('accumulate_grad_batches', 1),\n",
    "    gradient_clip_val=config['training'].get('gradient_clip_val', 1.0),\n",
    "    precision=config['training'].get('precision', 16),\n",
    "    log_every_n_steps=10,\n",
    "    val_check_interval=config['training'].get('val_check_interval', 1.0),\n",
    "    limit_train_batches=config['training'].get('limit_train_batches', 1.0),\n",
    "    limit_val_batches=config['training'].get('limit_val_batches', 1.0)\n",
    ")"
   ]
  },
  {
   "cell_type": "code",
   "execution_count": null,
   "id": "ad772f87",
   "metadata": {},
   "outputs": [
    {
     "name": "stderr",
     "output_type": "stream",
     "text": [
      "LOCAL_RANK: 0 - CUDA_VISIBLE_DEVICES: [0]\n",
      "\n",
      "  | Name       | Type              | Params | Mode \n",
      "---------------------------------------------------------\n",
      "0 | backbone   | VisionTransformer | 88.2 M | train\n",
      "1 | classifier | Sequential        | 769    | train\n",
      "2 | criterion  | BCEWithLogitsLoss | 0      | train\n",
      "---------------------------------------------------------\n",
      "2.4 M     Trainable params\n",
      "85.8 M    Non-trainable params\n",
      "88.2 M    Total params\n",
      "352.635   Total estimated model params size (MB)\n",
      "328       Modules in train mode\n",
      "0         Modules in eval mode\n"
     ]
    },
    {
     "name": "stdout",
     "output_type": "stream",
     "text": [
      "Epoch 0:  42%|████▏     | 2411/5794 [06:00<08:26,  6.69it/s, v_num=1]      "
     ]
    }
   ],
   "source": [
    "trainer.fit(model, train_loader, val_loader)"
   ]
  },
  {
   "cell_type": "code",
   "execution_count": null,
   "id": "9724fe3a",
   "metadata": {},
   "outputs": [],
   "source": []
  }
 ],
 "metadata": {
  "kernelspec": {
   "display_name": "ship-detector (3.12.11)",
   "language": "python",
   "name": "python3"
  },
  "language_info": {
   "codemirror_mode": {
    "name": "ipython",
    "version": 3
   },
   "file_extension": ".py",
   "mimetype": "text/x-python",
   "name": "python",
   "nbconvert_exporter": "python",
   "pygments_lexer": "ipython3",
   "version": "3.12.11"
  }
 },
 "nbformat": 4,
 "nbformat_minor": 5
}
