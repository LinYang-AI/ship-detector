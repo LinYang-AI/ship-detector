{
 "cells": [
  {
   "cell_type": "code",
   "execution_count": 11,
   "id": "8c04363d",
   "metadata": {},
   "outputs": [],
   "source": [
    "import ruamel.yaml as ryaml\n",
    "from ship_detector.scripts.train_vit_efficient import *"
   ]
  },
  {
   "cell_type": "code",
   "execution_count": 5,
   "id": "3f85d6c4",
   "metadata": {},
   "outputs": [],
   "source": [
    "config_path = \"configs/vit_efficient.yaml\"\n",
    "manifest_path = \"data/airbus-ship-detection/train_ship_segmentations_v2.csv\"\n",
    "output_dir = \"outputs/efficient\""
   ]
  },
  {
   "cell_type": "code",
   "execution_count": 12,
   "id": "69bd8e50",
   "metadata": {},
   "outputs": [
    {
     "name": "stderr",
     "output_type": "stream",
     "text": [
      "Seed set to 42\n"
     ]
    }
   ],
   "source": [
    "with open(config_path, 'r') as f:\n",
    "    config = ryaml.YAML(typ='rt').load(f)\n",
    "pl.seed_everything(config.get('seed', 42))\n",
    "Path(output_dir).mkdir(parents=True, exist_ok=True)"
   ]
  },
  {
   "cell_type": "code",
   "execution_count": null,
   "id": "7e8347ec",
   "metadata": {},
   "outputs": [],
   "source": []
  }
 ],
 "metadata": {
  "kernelspec": {
   "display_name": "ship-detector",
   "language": "python",
   "name": "python3"
  },
  "language_info": {
   "codemirror_mode": {
    "name": "ipython",
    "version": 3
   },
   "file_extension": ".py",
   "mimetype": "text/x-python",
   "name": "python",
   "nbconvert_exporter": "python",
   "pygments_lexer": "ipython3",
   "version": "3.12.11"
  }
 },
 "nbformat": 4,
 "nbformat_minor": 5
}
